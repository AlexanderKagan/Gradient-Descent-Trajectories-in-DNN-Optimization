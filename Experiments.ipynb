{
 "cells": [
  {
   "cell_type": "code",
   "execution_count": 4,
   "metadata": {
    "id": "6yIhIG2-kTUE"
   },
   "outputs": [],
   "source": [
    "import numpy as np\n",
    "import torch.nn as nn\n",
    "import torch\n",
    "import torchvision\n",
    "\n",
    "import matplotlib.pyplot as plt\n",
    "from IPython import display\n",
    "import torch.nn.functional as F\n",
    "from torch.distributions import MultivariateNormal\n",
    "import sys\n",
    "\n",
    "from utils import tensor_list_prod\n",
    "from models import linearNN, linearNN_with_activation\n",
    "\n",
    "device = 'cuda' if torch.cuda.is_available() else 'cpu'"
   ]
  },
  {
   "cell_type": "code",
   "execution_count": 5,
   "metadata": {
    "colab": {
     "base_uri": "https://localhost:8080/",
     "height": 35
    },
    "id": "zvukns2Vl94H",
    "outputId": "28d81584-8346-418e-ce9f-442e1ceb0640"
   },
   "outputs": [
    {
     "data": {
      "text/plain": [
       "'cpu'"
      ]
     },
     "execution_count": 5,
     "metadata": {},
     "output_type": "execute_result"
    }
   ],
   "source": [
    "device"
   ]
  },
  {
   "cell_type": "code",
   "execution_count": 283,
   "metadata": {
    "id": "WufKe4oKkTUE"
   },
   "outputs": [],
   "source": [
    "def validate(loss_history, rank_history, rank_verbose_interval):\n",
    "        plt.style.use('ggplot')\n",
    "        fig, (ax1, ax2) = plt.subplots(1, 2, figsize=(15, 6))\n",
    "        ax1.plot(loss_history)\n",
    "        ax1.set_title('Loss')\n",
    "        ax1.set_xlabel('epoch')\n",
    "        ax1.set_ylabel('$||\\hat{y} - y||_2$')\n",
    "        ax2.plot(range(0, len(loss_history), rank_verbose_interval), rank_history)\n",
    "        ax2.set_title('Rank evolution')\n",
    "        ax2.set_xlabel('epoch')\n",
    "        ax2.set_ylabel('rank')\n",
    "        plt.show()"
   ]
  },
  {
   "cell_type": "code",
   "execution_count": null,
   "metadata": {},
   "outputs": [],
   "source": []
  },
  {
   "cell_type": "code",
   "execution_count": 284,
   "metadata": {
    "id": "WvhCGBuukTUE"
   },
   "outputs": [],
   "source": [
    "def train_nn(net, opt, loader, criterion, \n",
    "             num_epochs=500, verbose_interval=50, tol=1e-3):\n",
    "    loss_history = []\n",
    "    rank_history = []\n",
    "    for epoch in range(num_epochs):\n",
    "        for (batch, answer) in loader:\n",
    "            opt.zero_grad()\n",
    "            pred = net.to(device).forward(batch.to(device))\n",
    "            loss = criterion(pred, answer.to(device))\n",
    "            loss.backward()\n",
    "            opt.step()    \n",
    "        loss_history.append(loss.item())\n",
    "        if epoch % verbose_interval == 0:\n",
    "#             res = net.forward(x).detach().cpu().numpy()\n",
    "            display.clear_output(wait=True)\n",
    "            print('Epoch:', epoch)\n",
    "            rank = torch.matrix_rank(tensor_list_prod(list(net.parameters())))\n",
    "            rank_history.append(rank)\n",
    "            validate(loss_history, rank_history, verbose_interval)\n",
    "        if loss_history[-1] < tol:\n",
    "            print('Early stop activated!')\n",
    "            break\n",
    "    return loss_history"
   ]
  },
  {
   "cell_type": "code",
   "execution_count": 285,
   "metadata": {
    "id": "s7_ro6nOkTUF"
   },
   "outputs": [],
   "source": [
    "num_points = 1000\n",
    "d = 100\n",
    "R = torch.rand(size=(d, d))\n",
    "#R = (R + R.T) / 2\n",
    "\n",
    "mu = torch.zeros(d)\n",
    "sigma = torch.eye(d)\n",
    "\n",
    "mn = MultivariateNormal(mu, sigma)\n",
    "\n",
    "x = mn.sample((num_points,))\n",
    "\n",
    "# x = torch.linspace(-10, 10, num_points).unsqueeze(1)\n",
    "y = (x @ R).to(device)\n",
    "x = x.to(device)\n",
    "data = list(zip(x, y))"
   ]
  },
  {
   "cell_type": "code",
   "execution_count": 286,
   "metadata": {
    "id": "7htVGDfikrpn"
   },
   "outputs": [],
   "source": [
    "net = linearNN_with_activation(d, d, widths=[50], activation=F.relu).to(device)\n",
    "opt = torch.optim.SGD(net.parameters(), lr=1e-6)\n",
    "criterion = nn.MSELoss()\n",
    "loader = torch.utils.data.dataloader.DataLoader(data, batch_size=300)"
   ]
  },
  {
   "cell_type": "code",
   "execution_count": 287,
   "metadata": {},
   "outputs": [
    {
     "name": "stdout",
     "output_type": "stream",
     "text": [
      "Epoch: 250\n"
     ]
    },
    {
     "data": {
      "image/png": "[encoded data removed]",
      "text/plain": [
       "<Figure size 1080x432 with 2 Axes>"
      ]
     },
     "metadata": {},
     "output_type": "display_data"
    }
   ],
   "source": [
    "loss_history = train_nn(net, opt, loader, criterion, 300)"
   ]
  },
  {
   "cell_type": "code",
   "execution_count": null,
   "metadata": {},
   "outputs": [],
   "source": []
  }
 ],
 "metadata": {
  "accelerator": "GPU",
  "colab": {
   "name": "TMDL_HW5.ipynb",
   "provenance": []
  },
  "kernelspec": {
   "display_name": "Python 3",
   "language": "python",
   "name": "python3"
  },
  "language_info": {
   "codemirror_mode": {
    "name": "ipython",
    "version": 3
   },
   "file_extension": ".py",
   "mimetype": "text/x-python",
   "name": "python",
   "nbconvert_exporter": "python",
   "pygments_lexer": "ipython3",
   "version": "3.7.3"
  }
 },
 "nbformat": 4,
 "nbformat_minor": 1
}
